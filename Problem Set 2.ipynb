{
 "cells": [
  {
   "cell_type": "markdown",
   "id": "5979b033",
   "metadata": {},
   "source": [
    "Question 1 "
   ]
  },
  {
   "cell_type": "code",
   "execution_count": 3,
   "id": "6f049bbf",
   "metadata": {},
   "outputs": [
    {
     "data": {
      "text/plain": [
       "6"
      ]
     },
     "execution_count": 3,
     "metadata": {},
     "output_type": "execute_result"
    }
   ],
   "source": [
    "a = 0\n",
    "def b():\n",
    "    global a\n",
    "    a = c(a)\n",
    "    \n",
    "def c(a):\n",
    "    return a + 2\n",
    "\n",
    "b()\n",
    "b()\n",
    "b()\n",
    "a\n"
   ]
  },
  {
   "cell_type": "markdown",
   "id": "8c4de5bd",
   "metadata": {},
   "source": [
    "Value displayed when the last expression (a) is evaluated is 6. \n",
    "First variable 'a' is assigned a value 0 \n",
    "Then function named b() is defined\n",
    "a is declared as global so that the function outside b() can also access it\n",
    "c() function is then called which returns a+2 i.e. 0 + 2 and stores it in 'a'. Now is 2 \n",
    "When b() is called again, the above step repeats and 'a' values becomes 2 + 2 i.e 4\n",
    "When b() is called the third time, 'a' value is now 4 + 2 i.e 6\n",
    "That's why the final output is 6 when a is printed"
   ]
  },
  {
   "cell_type": "markdown",
   "id": "ad8883a6",
   "metadata": {},
   "source": [
    "Question 2"
   ]
  },
  {
   "cell_type": "code",
   "execution_count": 22,
   "id": "54639f4b",
   "metadata": {
    "scrolled": true
   },
   "outputs": [
    {
     "ename": "SyntaxError",
     "evalue": "invalid syntax (3704921577.py, line 7)",
     "output_type": "error",
     "traceback": [
      "\u001b[1;36m  Input \u001b[1;32mIn [22]\u001b[1;36m\u001b[0m\n\u001b[1;33m    print(a\"{Fname} not found\")\u001b[0m\n\u001b[1;37m           ^\u001b[0m\n\u001b[1;31mSyntaxError\u001b[0m\u001b[1;31m:\u001b[0m invalid syntax\n"
     ]
    }
   ],
   "source": [
    "def Filelength(Fname : str) :\n",
    "    try:\n",
    "        a = open(Fname)\n",
    "        print(len(a.readlines()))\n",
    "        a.close()\n",
    "    except :\n",
    "        print(a\"Fname not found\")\n",
    "        \n",
    "        Filelength(\"Filelength.txt\")\n",
    "        \n",
    "    "
   ]
  },
  {
   "cell_type": "markdown",
   "id": "fecb851f",
   "metadata": {},
   "source": [
    "Question 3"
   ]
  },
  {
   "cell_type": "code",
   "execution_count": 26,
   "id": "75e334ea",
   "metadata": {},
   "outputs": [
    {
     "ename": "AttributeError",
     "evalue": "'Marsupial' object has no attribute 'contents'",
     "output_type": "error",
     "traceback": [
      "\u001b[1;31m---------------------------------------------------------------------------\u001b[0m",
      "\u001b[1;31mAttributeError\u001b[0m                            Traceback (most recent call last)",
      "Input \u001b[1;32mIn [26]\u001b[0m, in \u001b[0;36m<cell line: 10>\u001b[1;34m()\u001b[0m\n\u001b[0;32m      7\u001b[0m         \u001b[38;5;28;01mreturn\u001b[39;00m \u001b[38;5;28mself\u001b[39m\u001b[38;5;241m.\u001b[39mcontents\n\u001b[0;32m      9\u001b[0m m \u001b[38;5;241m=\u001b[39m Marsupial()\n\u001b[1;32m---> 10\u001b[0m \u001b[43mm\u001b[49m\u001b[38;5;241;43m.\u001b[39;49m\u001b[43mput_in_pouch\u001b[49m\u001b[43m(\u001b[49m\u001b[38;5;124;43m'\u001b[39;49m\u001b[38;5;124;43mdoll\u001b[39;49m\u001b[38;5;124;43m'\u001b[39;49m\u001b[43m)\u001b[49m \n\u001b[0;32m     11\u001b[0m m\u001b[38;5;241m.\u001b[39mput_in_pouch(\u001b[38;5;124m'\u001b[39m\u001b[38;5;124mfiretruck\u001b[39m\u001b[38;5;124m'\u001b[39m) \n\u001b[0;32m     12\u001b[0m m\u001b[38;5;241m.\u001b[39mput_in_pouch(\u001b[38;5;124m'\u001b[39m\u001b[38;5;124mkitten\u001b[39m\u001b[38;5;124m'\u001b[39m) \n",
      "Input \u001b[1;32mIn [26]\u001b[0m, in \u001b[0;36mMarsupial.put_in_pouch\u001b[1;34m(self, item)\u001b[0m\n\u001b[0;32m      4\u001b[0m \u001b[38;5;28;01mdef\u001b[39;00m \u001b[38;5;21mput_in_pouch\u001b[39m(\u001b[38;5;28mself\u001b[39m, item: \u001b[38;5;28mstr\u001b[39m):\n\u001b[1;32m----> 5\u001b[0m     \u001b[38;5;28;43mself\u001b[39;49m\u001b[38;5;241;43m.\u001b[39;49m\u001b[43mcontents\u001b[49m\u001b[38;5;241m.\u001b[39mappend(item)\n",
      "\u001b[1;31mAttributeError\u001b[0m: 'Marsupial' object has no attribute 'contents'"
     ]
    }
   ],
   "source": [
    "class Marsupial: \n",
    "    def _init_(self):\n",
    "        self.contents = []\n",
    "    def put_in_pouch(self, item: str):\n",
    "        self.contents.append(item)\n",
    "    def pouch_contents(self):\n",
    "        return self.contents\n",
    "    \n",
    "m = Marsupial()\n",
    "m.put_in_pouch('doll') \n",
    "m.put_in_pouch('firetruck') \n",
    "m.put_in_pouch('kitten') \n",
    "m.pouch_contents()\n",
    "\n",
    "class Kangaroo (Marsupial):\n",
    "    def _init_(self,x,y):\n",
    "        Marsupial._init_(self)\n",
    "        self.x = x\n",
    "        self.y = y\n",
    "        \n",
    "    def _str_(self):\n",
    "        return f\"I am a Kangaroo located at coordinates ({self.x},{self.y})\"\n",
    "    \n",
    "    def jump(self,dx,dy):\n",
    "        self.x += dx\n",
    "        self.y += dy\n",
    "        \n",
    "k= Kangaroo(0,0)\n",
    "print(k)\n",
    "\n",
    "k.put_in_pouch('doll')\n",
    "k.put_in_pouch('firetruck') \n",
    "k.put_in_pouch('kitten') \n",
    "k.pouch_contents()\n",
    "\n",
    "k.jump(1,0)\n",
    "k.jump(1,0)\n",
    "k.jump(1,0)\n",
    "print(k)\n",
    "    \n",
    "    \n",
    "    "
   ]
  },
  {
   "cell_type": "markdown",
   "id": "e8a38b08",
   "metadata": {},
   "source": [
    "Question 4"
   ]
  },
  {
   "cell_type": "code",
   "execution_count": 39,
   "id": "19753794",
   "metadata": {},
   "outputs": [
    {
     "name": "stdout",
     "output_type": "stream",
     "text": [
      "-70\n"
     ]
    },
    {
     "data": {
      "text/plain": [
       "'Please enter a positive integer'"
      ]
     },
     "execution_count": 39,
     "metadata": {},
     "output_type": "execute_result"
    }
   ],
   "source": [
    "def Collatz(x :int):\n",
    "    print(x)\n",
    "    if x <= 0:\n",
    "        return \"Please enter a positive integer\"\n",
    "    elif x == 1:\n",
    "        return 1\n",
    "    elif (x > 1):\n",
    "        if x%2 == 1:\n",
    "            x = 3*x + 1\n",
    "        else:\n",
    "            x = x/2\n",
    "    Collatz(x)\n",
    "    \n",
    "Collatz(-70)   "
   ]
  },
  {
   "cell_type": "code",
   "execution_count": 34,
   "id": "689cf7c0",
   "metadata": {},
   "outputs": [
    {
     "name": "stdout",
     "output_type": "stream",
     "text": [
      "1\n"
     ]
    }
   ],
   "source": [
    "Collatz(1)"
   ]
  },
  {
   "cell_type": "code",
   "execution_count": 35,
   "id": "2e0495fd",
   "metadata": {},
   "outputs": [
    {
     "name": "stdout",
     "output_type": "stream",
     "text": [
      "10\n",
      "5.0\n",
      "16.0\n",
      "8.0\n",
      "4.0\n",
      "2.0\n",
      "1.0\n"
     ]
    }
   ],
   "source": [
    "Collatz(10)"
   ]
  },
  {
   "cell_type": "markdown",
   "id": "9c5192bd",
   "metadata": {},
   "source": [
    "Question 5\n"
   ]
  },
  {
   "cell_type": "code",
   "execution_count": 40,
   "id": "d8397bb7",
   "metadata": {},
   "outputs": [
    {
     "data": {
      "text/plain": [
       "0"
      ]
     },
     "execution_count": 40,
     "metadata": {},
     "output_type": "execute_result"
    }
   ],
   "source": [
    "def binary (a:int):\n",
    "    if a<0:\n",
    "        return \"Please enter a non-negative integer\"\n",
    "    elif a==0:\n",
    "        return 0\n",
    "    else:\n",
    "        return a%2 + 10*(binary(a//2))\n",
    "\n",
    "binary(0)"
   ]
  },
  {
   "cell_type": "code",
   "execution_count": 41,
   "id": "3c31b6b9",
   "metadata": {},
   "outputs": [
    {
     "data": {
      "text/plain": [
       "1"
      ]
     },
     "execution_count": 41,
     "metadata": {},
     "output_type": "execute_result"
    }
   ],
   "source": [
    "binary(1)"
   ]
  },
  {
   "cell_type": "code",
   "execution_count": 42,
   "id": "2f56eb14",
   "metadata": {},
   "outputs": [
    {
     "data": {
      "text/plain": [
       "11"
      ]
     },
     "execution_count": 42,
     "metadata": {},
     "output_type": "execute_result"
    }
   ],
   "source": [
    "binary(3)"
   ]
  },
  {
   "cell_type": "code",
   "execution_count": 43,
   "id": "2109889f",
   "metadata": {},
   "outputs": [
    {
     "data": {
      "text/plain": [
       "1001"
      ]
     },
     "execution_count": 43,
     "metadata": {},
     "output_type": "execute_result"
    }
   ],
   "source": [
    "binary(9)"
   ]
  },
  {
   "cell_type": "code",
   "execution_count": 44,
   "id": "8d2e0c2f",
   "metadata": {},
   "outputs": [
    {
     "data": {
      "text/plain": [
       "1000110"
      ]
     },
     "execution_count": 44,
     "metadata": {},
     "output_type": "execute_result"
    }
   ],
   "source": [
    "binary(70)"
   ]
  },
  {
   "cell_type": "markdown",
   "id": "54c32318",
   "metadata": {},
   "source": [
    "\n",
    "Question 6\n"
   ]
  },
  {
   "cell_type": "code",
   "execution_count": 48,
   "id": "528ecb59",
   "metadata": {},
   "outputs": [
    {
     "name": "stdout",
     "output_type": "stream",
     "text": [
      "Parse ME!\n",
      "\t H2 here\n",
      "\t \n",
      "\n",
      "W3C Mission\n",
      "\n",
      "\t\n",
      "\t Principles\n",
      "\t \n",
      " \n",
      "\n",
      "\n",
      "\n",
      "\t \n",
      "\n"
     ]
    }
   ],
   "source": [
    "from html.parser import HTMLParser\n",
    "class HeadingParser(HTMLParser): \n",
    "    \n",
    "    def _init_(self, *, conver_charrefs: bool = ...) -> None:\n",
    "        super()._init_(convert_charrefs=conver_charrefs)\n",
    "        self.tag =''\n",
    "    \n",
    "    def handle_starttag(self, tag, attrs):\n",
    "        self.tag = tag\n",
    "        \n",
    "    def handle_data(self,data):\n",
    "        if (self.tag == 'h1'):\n",
    "            print(data)\n",
    "            \n",
    "        elif(self.tag == 'h2'):\n",
    "            print(\"\\t\", data)\n",
    "            \n",
    "        elif(self.tag == 'h3'):\n",
    "            print(\"\\t\\t\", data)\n",
    "            \n",
    "        elif(self.tag == 'h4'):\n",
    "            print(\"\\t\\t\\t\", data)\n",
    "        \n",
    "        elif(self.tag == 'h5'):\n",
    "            print(\"\\t\\t\\t\\t\", data)\n",
    "            \n",
    "        elif(self.tag == 'h6'):\n",
    "            print(\"\\t\\t\\t\\t\\t\", data)\n",
    "            \n",
    "        else:\n",
    "            pass\n",
    "        \n",
    "parser = HeadingParser()\n",
    "parser.feed('<html><head><title>Test</title></head>'\n",
    "           '<body><h1>Parse ME!</h1><h2>H2 here</h2></body></html>')\n",
    "\n",
    "infile = open('w3c.html')\n",
    "content = infile.read()\n",
    "infile.close()\n",
    "content\n",
    "parser.feed(content)\n",
    "        \n",
    "        "
   ]
  },
  {
   "cell_type": "markdown",
   "id": "1fde4561",
   "metadata": {},
   "source": [
    "Question 7"
   ]
  },
  {
   "cell_type": "code",
   "execution_count": null,
   "id": "daad2e0c",
   "metadata": {},
   "outputs": [],
   "source": []
  },
  {
   "cell_type": "markdown",
   "id": "29a56b02",
   "metadata": {},
   "source": [
    "\n",
    "Question 8"
   ]
  },
  {
   "cell_type": "code",
   "execution_count": 75,
   "id": "c46f5fcc",
   "metadata": {},
   "outputs": [
    {
     "name": "stdout",
     "output_type": "stream",
     "text": [
      "<sqlite3.Cursor object at 0x000001F1B334ED50>\n",
      "[('Mumbai', 'India', 'Winter', 24.8, 5.9), ('Mumbai', 'India', 'Spring', 28.4, 16.2), ('Mumbai', 'India', 'Summer', 27.9, 1549.4), ('Mumbai', 'India', 'Fall', 27.6, 346.0), ('London', 'United Kingdom', 'Winter', 4.2, 207.7), ('London', 'United Kingdom', 'Spring', 8.3, 169.6), ('London', 'United Kingdom', 'Summer', 15.7, 157.0), ('London', 'United Kingdom', 'Fall', 10.4, 218.5), ('Cairo', 'Egypt', 'Winter', 13.6, 16.5), ('Cairo', 'Egypt', 'Spring', 20.7, 6.5), ('Cairo', 'Egypt', 'Summer', 27.7, 0.1), ('Cairo', 'Egypt', 'Fall', 22.2, 4.5)]\n"
     ]
    }
   ],
   "source": [
    "import sqlite3\n",
    "\n",
    "con = sqlite3.connect('web.db')\n",
    "\n",
    "cur = con.cursor()\n",
    "\n",
    "cur.execute(\"CREATE TABLE WeatherTable (City text, Country text, Season text, Temperature Real, Rainfall real)\")\n",
    "cur.execute(\"\"\"INSERT INTO WeatherTable VALUES \n",
    "            ('Mumbai', 'India', 'Winter', 24.8, 5.9),\n",
    "            ('Mumbai', 'India', 'Spring', 28.4, 16.2),\n",
    "            ('Mumbai', 'India', 'Summer', 27.9, 1549.4),\n",
    "            ('Mumbai', 'India', 'Fall', 27.6, 346.0),\n",
    "            ('London', 'United Kingdom', 'Winter', 4.2, 207.7),\n",
    "            ('London', 'United Kingdom', 'Spring', 8.3, 169.6),\n",
    "            ('London', 'United Kingdom', 'Summer', 15.7, 157.0),\n",
    "            ('London', 'United Kingdom', 'Fall', 10.4, 218.5),\n",
    "            ('Cairo', 'Egypt', 'Winter', 13.6, 16.5),\n",
    "            ('Cairo', 'Egypt', 'Spring', 20.7, 6.5),\n",
    "            ('Cairo', 'Egypt', 'Summer', 27.7, 0.1),\n",
    "            ('Cairo', 'Egypt', 'Fall', 22.2, 4.5)\"\"\")\n",
    "            \n",
    "            \n",
    "print(cur.execute(\"Select * FROM WeatherTable\"))   \n",
    "print (cur.fetchall())             "
   ]
  },
  {
   "cell_type": "markdown",
   "id": "6f6d25e2",
   "metadata": {},
   "source": [
    "\n",
    "8a)\n"
   ]
  },
  {
   "cell_type": "code",
   "execution_count": 76,
   "id": "28b3a6f9",
   "metadata": {},
   "outputs": [
    {
     "name": "stdout",
     "output_type": "stream",
     "text": [
      "[(24.8,), (28.4,), (27.9,), (27.6,), (4.2,), (8.3,), (15.7,), (10.4,), (13.6,), (20.7,), (27.7,), (22.2,)]\n"
     ]
    }
   ],
   "source": [
    "cur.execute('Select Temperature FROM WeatherTable')\n",
    "print (cur.fetchall())"
   ]
  },
  {
   "cell_type": "markdown",
   "id": "f194a26f",
   "metadata": {},
   "source": [
    "\n",
    "8b)\n"
   ]
  },
  {
   "cell_type": "code",
   "execution_count": 77,
   "id": "b8bffd49",
   "metadata": {},
   "outputs": [
    {
     "name": "stdout",
     "output_type": "stream",
     "text": [
      "[('Mumbai',), ('London',), ('Cairo',)]\n"
     ]
    }
   ],
   "source": [
    "cur.execute('Select Distinct City FROM WeatherTable')\n",
    "print (cur.fetchall())"
   ]
  },
  {
   "cell_type": "markdown",
   "id": "3baabf57",
   "metadata": {},
   "source": [
    "\n",
    "8c)\n"
   ]
  },
  {
   "cell_type": "code",
   "execution_count": 83,
   "id": "b698d08a",
   "metadata": {},
   "outputs": [
    {
     "name": "stdout",
     "output_type": "stream",
     "text": [
      "[('Mumbai', 'India', 'Winter', 24.8, 5.9), ('Mumbai', 'India', 'Spring', 28.4, 16.2), ('Mumbai', 'India', 'Summer', 27.9, 1549.4), ('Mumbai', 'India', 'Fall', 27.6, 346.0)]\n"
     ]
    }
   ],
   "source": [
    "cur.execute(\"\"\"Select * \n",
    "            FROM WeatherTable \n",
    "            WHERE Country = 'India'\"\"\")\n",
    "print (cur.fetchall())"
   ]
  },
  {
   "cell_type": "markdown",
   "id": "b5cc1071",
   "metadata": {},
   "source": [
    "\n",
    "8d)\n"
   ]
  },
  {
   "cell_type": "code",
   "execution_count": 89,
   "id": "ad5e862c",
   "metadata": {},
   "outputs": [
    {
     "name": "stdout",
     "output_type": "stream",
     "text": [
      "[('Mumbai', 'India', 'Fall', 27.6, 346.0), ('London', 'United Kingdom', 'Fall', 10.4, 218.5), ('Cairo', 'Egypt', 'Fall', 22.2, 4.5)]\n"
     ]
    }
   ],
   "source": [
    "cur.execute(\"\"\" Select * FROM WeatherTable\n",
    "            WHERE Season = 'Fall'\"\"\")\n",
    "print (cur.fetchall())"
   ]
  },
  {
   "cell_type": "markdown",
   "id": "3de0ff5b",
   "metadata": {},
   "source": [
    "\n",
    "8e)\n"
   ]
  },
  {
   "cell_type": "code",
   "execution_count": 90,
   "id": "7e2c9caf",
   "metadata": {},
   "outputs": [
    {
     "name": "stdout",
     "output_type": "stream",
     "text": [
      "[('Mumbai', 'India', 'Fall'), ('London', 'United Kingdom', 'Winter'), ('London', 'United Kingdom', 'Fall')]\n"
     ]
    }
   ],
   "source": [
    "cur.execute(\"\"\" Select City, Country, Season FROM WeatherTable\n",
    "                WHERE( Rainfall >= 200 AND Rainfall <= 400)\"\"\"  )\n",
    "print (cur.fetchall())"
   ]
  },
  {
   "cell_type": "markdown",
   "id": "8fb88ee8",
   "metadata": {},
   "source": [
    "\n",
    "8f)\n"
   ]
  },
  {
   "cell_type": "code",
   "execution_count": 96,
   "id": "6b553175",
   "metadata": {},
   "outputs": [
    {
     "name": "stdout",
     "output_type": "stream",
     "text": [
      "[('Mumbai', 'India', 27.6), ('Cairo', 'Egypt', 22.2)]\n"
     ]
    }
   ],
   "source": [
    "cur.execute(\"\"\" Select City, Country, Temperature FROM WeatherTable\n",
    "                WHERE (Season = 'Fall' AND Temperature > 20 ) \"\"\")\n",
    "print (cur.fetchall())"
   ]
  },
  {
   "cell_type": "markdown",
   "id": "dcdb279d",
   "metadata": {},
   "source": [
    "\n",
    "8g)\n"
   ]
  },
  {
   "cell_type": "code",
   "execution_count": 100,
   "id": "51b42034",
   "metadata": {},
   "outputs": [
    {
     "name": "stdout",
     "output_type": "stream",
     "text": [
      "[(27.6,)]\n"
     ]
    }
   ],
   "source": [
    "cur.execute(\"\"\" Select Sum(Rainfall) From WeatherTable \n",
    "                WHERE City = 'Cairo'\"\"\")\n",
    "print (cur.fetchall())"
   ]
  },
  {
   "cell_type": "markdown",
   "id": "6b0c41ce",
   "metadata": {},
   "source": [
    "\n",
    "8h)\n"
   ]
  },
  {
   "cell_type": "code",
   "execution_count": 103,
   "id": "45f96238",
   "metadata": {},
   "outputs": [
    {
     "name": "stdout",
     "output_type": "stream",
     "text": [
      "[('Fall', 569.0), ('Spring', 192.29999999999998), ('Summer', 1706.5), ('Winter', 230.1)]\n"
     ]
    }
   ],
   "source": [
    "cur.execute(\"\"\" Select Season, Sum(Rainfall) From WeatherTable \n",
    "                GROUP BY Season \"\"\") \n",
    "print (cur.fetchall())            "
   ]
  },
  {
   "cell_type": "code",
   "execution_count": 105,
   "id": "347b413a",
   "metadata": {},
   "outputs": [
    {
     "ename": "ProgrammingError",
     "evalue": "Cannot operate on a closed database.",
     "output_type": "error",
     "traceback": [
      "\u001b[1;31m---------------------------------------------------------------------------\u001b[0m",
      "\u001b[1;31mProgrammingError\u001b[0m                          Traceback (most recent call last)",
      "Input \u001b[1;32mIn [105]\u001b[0m, in \u001b[0;36m<cell line: 1>\u001b[1;34m()\u001b[0m\n\u001b[1;32m----> 1\u001b[0m \u001b[43mcon\u001b[49m\u001b[38;5;241;43m.\u001b[39;49m\u001b[43mcommit\u001b[49m\u001b[43m(\u001b[49m\u001b[43m)\u001b[49m\n\u001b[0;32m      2\u001b[0m con\u001b[38;5;241m.\u001b[39mclose()\n",
      "\u001b[1;31mProgrammingError\u001b[0m: Cannot operate on a closed database."
     ]
    }
   ],
   "source": [
    "con.commit()\n",
    "con.close()\n",
    "#Connection Closed\n"
   ]
  },
  {
   "cell_type": "markdown",
   "id": "2878b910",
   "metadata": {},
   "source": [
    "Question 9\n"
   ]
  },
  {
   "cell_type": "code",
   "execution_count": 106,
   "id": "4bbfd320",
   "metadata": {},
   "outputs": [],
   "source": [
    "words = ['The', 'quick', 'brown', 'fox', 'jumps', 'over', 'the', 'lazy', 'dog']\n"
   ]
  },
  {
   "cell_type": "code",
   "execution_count": 107,
   "id": "e05c4df9",
   "metadata": {},
   "outputs": [
    {
     "data": {
      "text/plain": [
       "['The', 'quick', 'brown', 'fox', 'jumps', 'over', 'the', 'lazy', 'dog']"
      ]
     },
     "execution_count": 107,
     "metadata": {},
     "output_type": "execute_result"
    }
   ],
   "source": [
    "words"
   ]
  },
  {
   "cell_type": "markdown",
   "id": "9b7310c3",
   "metadata": {},
   "source": [
    "\n",
    "9a.\n"
   ]
  },
  {
   "cell_type": "code",
   "execution_count": 110,
   "id": "88055739",
   "metadata": {},
   "outputs": [
    {
     "data": {
      "text/plain": [
       "['THE', 'QUICK', 'BROWN', 'FOX', 'JUMPS', 'OVER', 'THE', 'LAZY', 'DOG']"
      ]
     },
     "execution_count": 110,
     "metadata": {},
     "output_type": "execute_result"
    }
   ],
   "source": [
    "LstA = [a.upper() for a in words]\n",
    "LstA"
   ]
  },
  {
   "cell_type": "markdown",
   "id": "0b098976",
   "metadata": {},
   "source": [
    "9b.\n"
   ]
  },
  {
   "cell_type": "code",
   "execution_count": 111,
   "id": "062be824",
   "metadata": {},
   "outputs": [
    {
     "data": {
      "text/plain": [
       "['the', 'quick', 'brown', 'fox', 'jumps', 'over', 'the', 'lazy', 'dog']"
      ]
     },
     "execution_count": 111,
     "metadata": {},
     "output_type": "execute_result"
    }
   ],
   "source": [
    "LstB = [b.lower() for b in words]\n",
    "LstB"
   ]
  },
  {
   "cell_type": "markdown",
   "id": "4b671be1",
   "metadata": {},
   "source": [
    "9c.\n"
   ]
  },
  {
   "cell_type": "code",
   "execution_count": 112,
   "id": "bf6bb376",
   "metadata": {},
   "outputs": [
    {
     "data": {
      "text/plain": [
       "[3, 5, 5, 3, 5, 4, 3, 4, 3]"
      ]
     },
     "execution_count": 112,
     "metadata": {},
     "output_type": "execute_result"
    }
   ],
   "source": [
    "LstC = [len(c) for c in words]\n",
    "LstC"
   ]
  },
  {
   "cell_type": "markdown",
   "id": "ede58cba",
   "metadata": {},
   "source": [
    "9d.\n"
   ]
  },
  {
   "cell_type": "code",
   "execution_count": 113,
   "id": "e718ac5c",
   "metadata": {},
   "outputs": [
    {
     "data": {
      "text/plain": [
       "[['THE', 'the', 3],\n",
       " ['QUICK', 'quick', 5],\n",
       " ['BROWN', 'brown', 5],\n",
       " ['FOX', 'fox', 3],\n",
       " ['JUMPS', 'jumps', 5],\n",
       " ['OVER', 'over', 4],\n",
       " ['THE', 'the', 3],\n",
       " ['LAZY', 'lazy', 4],\n",
       " ['DOG', 'dog', 3]]"
      ]
     },
     "execution_count": 113,
     "metadata": {},
     "output_type": "execute_result"
    }
   ],
   "source": [
    "LstD = [[d.upper(), d.lower(), len(d)] for d in words]\n",
    "LstD"
   ]
  },
  {
   "cell_type": "markdown",
   "id": "6f08889b",
   "metadata": {},
   "source": [
    "9e. \n"
   ]
  },
  {
   "cell_type": "code",
   "execution_count": 114,
   "id": "a77e76f6",
   "metadata": {},
   "outputs": [
    {
     "data": {
      "text/plain": [
       "['quick', 'brown', 'jumps', 'over', 'lazy']"
      ]
     },
     "execution_count": 114,
     "metadata": {},
     "output_type": "execute_result"
    }
   ],
   "source": [
    "LstE = [e for e in words if len(e) >= 4]\n",
    "LstE\n"
   ]
  },
  {
   "cell_type": "markdown",
   "id": "2f5325c4",
   "metadata": {},
   "source": [
    "THE END\n"
   ]
  },
  {
   "cell_type": "code",
   "execution_count": null,
   "id": "8c170df5",
   "metadata": {},
   "outputs": [],
   "source": []
  }
 ],
 "metadata": {
  "kernelspec": {
   "display_name": "Python 3 (ipykernel)",
   "language": "python",
   "name": "python3"
  },
  "language_info": {
   "codemirror_mode": {
    "name": "ipython",
    "version": 3
   },
   "file_extension": ".py",
   "mimetype": "text/x-python",
   "name": "python",
   "nbconvert_exporter": "python",
   "pygments_lexer": "ipython3",
   "version": "3.9.12"
  }
 },
 "nbformat": 4,
 "nbformat_minor": 5
}
